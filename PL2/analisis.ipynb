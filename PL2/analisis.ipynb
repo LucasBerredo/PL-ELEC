{
 "cells": [
  {
   "cell_type": "markdown",
   "id": "17d1ce0c",
   "metadata": {},
   "source": [
    "# Análisis datos PL2\n",
    "\n",
    "## Parte a\n",
    "\n",
    "Medimos las señales p-p $v_i$, $v_o$, con frecuencias entre $10\\text{Hz}$ y $2.0\\text{MHz}$, con dos medidas en cada orden."
   ]
  },
  {
   "cell_type": "code",
   "execution_count": null,
   "id": "5caaa304",
   "metadata": {},
   "outputs": [],
   "source": [
    "# Paquetes requeridos\n",
    "import matplotlib.pyplot as plt"
   ]
  },
  {
   "cell_type": "code",
   "execution_count": null,
   "id": "c7bf0572",
   "metadata": {},
   "outputs": [],
   "source": [
    "v_i = []\n",
    "v_o = []\n",
    "ganancias = [i - j for i, j in zip(v_o,v_i)]\n",
    "frecuencias = [10, 50, 100, 500, 1000, 5000, 1e4, 5e4, 1e5, 5e5, 1e6, 2e6]"
   ]
  },
  {
   "cell_type": "markdown",
   "id": "ed26e7d2",
   "metadata": {},
   "source": [
    "#### Representación gráfica"
   ]
  },
  {
   "cell_type": "code",
   "execution_count": null,
   "id": "86b4acaa",
   "metadata": {},
   "outputs": [],
   "source": [
    "plt.semilogx(frecuencias, ganancias)\n",
    "plt.xlabel(\"Frecuencias (Hz)\")\n",
    "plt.ylabel(\"Ganancia (V)\")"
   ]
  },
  {
   "cell_type": "markdown",
   "id": "fcf58900",
   "metadata": {},
   "source": [
    "#### Ganancia de corriente "
   ]
  },
  {
   "cell_type": "code",
   "execution_count": null,
   "id": "efe22c05",
   "metadata": {},
   "outputs": [],
   "source": [
    "v_s = []\n",
    "i_c = []\n",
    "i_i = [i/100e3 for i in v_s]\n",
    "ganancia_corriente = i_c / i_i"
   ]
  },
  {
   "cell_type": "markdown",
   "id": "ce0f3f74",
   "metadata": {},
   "source": [
    "#### Desfase de señal"
   ]
  },
  {
   "cell_type": "code",
   "execution_count": null,
   "id": "1d9a710f",
   "metadata": {},
   "outputs": [],
   "source": [
    "# 40 Hz\n",
    "nu_0: int\n",
    "nu_1: int\n",
    "desfase = nu_1 - nu_0\n",
    "print(f\"Desfase a 40Hz: {desfase}\\n\\n\")\n",
    "\n",
    "# 4 kHz\n",
    "nu_0: int\n",
    "nu_1: int\n",
    "desfase = nu_1 - nu_0\n",
    "print(f\"Desfase a 4kHz: {desfase}\")\n",
    "\n",
    "# 1 MHz\n",
    "nu_0: int\n",
    "nu_1: int\n",
    "desfase = nu_1 - nu_0\n",
    "print(f\"Desfase a 1MHz: {desfase}\")"
   ]
  },
  {
   "cell_type": "markdown",
   "id": "513cac20",
   "metadata": {},
   "source": [
    "#### Modelo teórico"
   ]
  },
  {
   "cell_type": "code",
   "execution_count": null,
   "id": "8711ec15",
   "metadata": {},
   "outputs": [],
   "source": [
    "h_fe = 330\n",
    "h_ie = 4500"
   ]
  },
  {
   "cell_type": "markdown",
   "id": "c243e5fd",
   "metadata": {},
   "source": [
    "## Parte b\n",
    "\n",
    "#### Ganancia en voltaje"
   ]
  },
  {
   "cell_type": "code",
   "execution_count": null,
   "id": "ae085372",
   "metadata": {},
   "outputs": [],
   "source": [
    "v_o = 2\n",
    "i_c = 0\n",
    "frecuencia = 10e3\n",
    "ganancia = v_o - v_i"
   ]
  }
 ],
 "metadata": {
  "language_info": {
   "name": "python"
  }
 },
 "nbformat": 4,
 "nbformat_minor": 5
}
